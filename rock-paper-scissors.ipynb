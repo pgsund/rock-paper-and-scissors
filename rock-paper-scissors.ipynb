{
 "cells": [
  {
   "cell_type": "code",
   "execution_count": 1,
   "metadata": {
    "collapsed": false
   },
   "outputs": [],
   "source": [
    "import numpy as np"
   ]
  },
  {
   "cell_type": "code",
   "execution_count": 2,
   "metadata": {
    "collapsed": true
   },
   "outputs": [],
   "source": [
    "import random"
   ]
  },
  {
   "cell_type": "markdown",
   "metadata": {},
   "source": [
    "# Adjusting for typing errors. Accepting just the first letter, words with one missing letter, or words where one letter is typed wrong. For example, the game interprets r, roc, and rocl as rock. The same holds for paper and scissors."
   ]
  },
  {
   "cell_type": "code",
   "execution_count": 3,
   "metadata": {
    "collapsed": false
   },
   "outputs": [],
   "source": [
    "alphabet = 'qwertyuiopasdfghjklzxcvbnm'"
   ]
  },
  {
   "cell_type": "code",
   "execution_count": 4,
   "metadata": {
    "collapsed": false
   },
   "outputs": [],
   "source": [
    "r = 'rock'"
   ]
  },
  {
   "cell_type": "code",
   "execution_count": 5,
   "metadata": {
    "collapsed": false
   },
   "outputs": [],
   "source": [
    "rock_list = ['r']"
   ]
  },
  {
   "cell_type": "code",
   "execution_count": 6,
   "metadata": {
    "collapsed": false
   },
   "outputs": [],
   "source": [
    "l = 0\n",
    "while l < len(r):\n",
    "    rock_list.append(r[0:l] + r[l + 1: len(r)])\n",
    "    l += 1"
   ]
  },
  {
   "cell_type": "code",
   "execution_count": 7,
   "metadata": {
    "collapsed": false
   },
   "outputs": [],
   "source": [
    "k = 0\n",
    "while k < len(alphabet):\n",
    "    j=0\n",
    "    while j < len(r):\n",
    "        rock_list.append(r[0:j] + alphabet[k] + r[j + 1:len(r)])\n",
    "        j += 1\n",
    "    k += 1"
   ]
  },
  {
   "cell_type": "code",
   "execution_count": 8,
   "metadata": {
    "collapsed": true
   },
   "outputs": [],
   "source": [
    "s = 'scissors'"
   ]
  },
  {
   "cell_type": "code",
   "execution_count": 9,
   "metadata": {
    "collapsed": true
   },
   "outputs": [],
   "source": [
    "scissors_list = ['s']"
   ]
  },
  {
   "cell_type": "code",
   "execution_count": 10,
   "metadata": {
    "collapsed": true
   },
   "outputs": [],
   "source": [
    "l = 0\n",
    "while l < len(s):\n",
    "    scissors_list.append(s[0:l] + s[l + 1: len(s)])\n",
    "    l += 1"
   ]
  },
  {
   "cell_type": "code",
   "execution_count": 11,
   "metadata": {
    "collapsed": true
   },
   "outputs": [],
   "source": [
    "k = 0\n",
    "while k < len(alphabet):\n",
    "    j=0\n",
    "    while j < len(s):\n",
    "        scissors_list.append(s[0:j] + alphabet[k] + s[j + 1:len(s)])\n",
    "        j += 1\n",
    "    k += 1"
   ]
  },
  {
   "cell_type": "code",
   "execution_count": 12,
   "metadata": {
    "collapsed": true
   },
   "outputs": [],
   "source": [
    "p = 'paper'"
   ]
  },
  {
   "cell_type": "code",
   "execution_count": 13,
   "metadata": {
    "collapsed": true
   },
   "outputs": [],
   "source": [
    "paper_list = ['p']"
   ]
  },
  {
   "cell_type": "code",
   "execution_count": 14,
   "metadata": {
    "collapsed": true
   },
   "outputs": [],
   "source": [
    "l = 0\n",
    "while l < len(p):\n",
    "    scissors_list.append(p[0:l] + p[l + 1: len(p)])\n",
    "    l += 1"
   ]
  },
  {
   "cell_type": "code",
   "execution_count": 15,
   "metadata": {
    "collapsed": true
   },
   "outputs": [],
   "source": [
    "k = 0\n",
    "while k < len(alphabet):\n",
    "    j=0\n",
    "    while j < len(p):\n",
    "        paper_list.append(p[0:j] + alphabet[k] + p[j + 1:len(p)])\n",
    "        j += 1\n",
    "    k += 1"
   ]
  },
  {
   "cell_type": "markdown",
   "metadata": {},
   "source": [
    "# This code runs the game ones"
   ]
  },
  {
   "cell_type": "code",
   "execution_count": 16,
   "metadata": {
    "collapsed": false
   },
   "outputs": [],
   "source": [
    "def rps():\n",
    "    user = input('Rock, scissors or paper?\\n').lower()\n",
    "    ri = random.randint(1,3)\n",
    "    if user in rock_list:\n",
    "        if ri == 1:\n",
    "            print('It is a draw!')\n",
    "            return np.array([0,0,1])\n",
    "        elif ri == 3:\n",
    "            print('Hah, you lose!')\n",
    "            return np.array([0,1,0])\n",
    "        else:\n",
    "            print('Damn, you win!')\n",
    "            return np.array([1,0,0])\n",
    "    elif user in scissors_list:\n",
    "        if ri == 2:\n",
    "            print('Hah, a draw!')\n",
    "            return np.array([0,0,1])\n",
    "        elif ri == 1:\n",
    "            print('Yes, you lose!')\n",
    "            return np.array([0,1,0])\n",
    "        else:\n",
    "            print('I hate it when you win!')\n",
    "            return np.array([1,0,0])\n",
    "    elif user in paper_list:\n",
    "        if ri == 3:\n",
    "            print('No way, it is a draw!')\n",
    "            return np.array([0,0,1])\n",
    "        elif ri == 2:\n",
    "            print('Yes! You lose!')\n",
    "            return np.array([0,1,0])\n",
    "        else:\n",
    "            print('You win! You have such a good luck!')\n",
    "            return np.array([1,0,0])\n",
    "    else:\n",
    "        print('My friend, you did not enter rock, paper or scissors!')\n",
    "        return np.array([0,0,0])"
   ]
  },
  {
   "cell_type": "markdown",
   "metadata": {},
   "source": [
    "# This code runs the game until either CPU or the player has 3 wins"
   ]
  },
  {
   "cell_type": "code",
   "execution_count": 17,
   "metadata": {
    "collapsed": false
   },
   "outputs": [],
   "source": [
    "def game():\n",
    "    score = np.array([0,0,0])\n",
    "    while True:\n",
    "        outcome = rps()\n",
    "        score = score + outcome\n",
    "        if score[0] == 3:\n",
    "            print('Whaaa... You won %d - %d!' % (score[0], score[1]))\n",
    "            break\n",
    "        elif score[1] == 3:\n",
    "            print('As expected, CPU won %d - %d!' % (score[1], score[0]))\n",
    "            break\n",
    "        elif score[0] > score[1]:\n",
    "            print('Grrr. You lead %d - %d.' % (score[0], score[1]))\n",
    "        elif score[0] < score[1]:\n",
    "            print('Oh yeah, CPU leads %d - %d.' % (score[1], score[0]))\n",
    "        else:\n",
    "            print('Hmm... the game is tied %d - %d.' % (score[0], score[1]))\n",
    "    return 'game ends'"
   ]
  },
  {
   "cell_type": "markdown",
   "metadata": {},
   "source": [
    "# after every best of five game, this code asks if the player wants to play again or quit"
   ]
  },
  {
   "cell_type": "code",
   "execution_count": 18,
   "metadata": {
    "collapsed": false
   },
   "outputs": [
    {
     "name": "stdout",
     "output_type": "stream",
     "text": [
      "Welcome to play rock, paper and scissors!\n",
      " The best of five games, excluding draws.\n",
      "Rock, scissors or paper?\n",
      "r\n",
      "you lose\n",
      "CPU leads 1 - 0.\n",
      "Rock, scissors or paper?\n",
      "s\n",
      "you lose\n",
      "CPU won 2 - 0!\n",
      "Type q to quit the game or any key to challenge CPU again.r\n",
      "again\n",
      "Rock, scissors or paper?\n",
      "r\n",
      "draw\n",
      "the game is tied 0 - 0.\n",
      "Rock, scissors or paper?\n",
      "r\n",
      "you win\n",
      "you lead 1 - 0.\n",
      "Rock, scissors or paper?\n",
      "r\n",
      "you win\n",
      "you won 2 - 0!\n",
      "Type q to quit the game or any key to challenge CPU again.q\n"
     ]
    }
   ],
   "source": [
    "print('Welcome to play rock, paper and scissors!\\n The best of five games, excluding draws.')\n",
    "while True:\n",
    "    game()\n",
    "    quit_game = input('Type q + enter to quit the game or any key + enter to challenge CPU again.\\n')\n",
    "    if quit_game == 'q':\n",
    "        break\n",
    "    else:\n",
    "        print('Again? OK, here we go...')"
   ]
  },
  {
   "cell_type": "code",
   "execution_count": null,
   "metadata": {
    "collapsed": true
   },
   "outputs": [],
   "source": []
  }
 ],
 "metadata": {
  "kernelspec": {
   "display_name": "Python 3",
   "language": "python",
   "name": "python3"
  },
  "language_info": {
   "codemirror_mode": {
    "name": "ipython",
    "version": 3
   },
   "file_extension": ".py",
   "mimetype": "text/x-python",
   "name": "python",
   "nbconvert_exporter": "python",
   "pygments_lexer": "ipython3",
   "version": "3.6.0"
  }
 },
 "nbformat": 4,
 "nbformat_minor": 2
}
